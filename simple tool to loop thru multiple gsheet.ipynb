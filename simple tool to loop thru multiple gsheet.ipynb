{
 "cells": [
  {
   "cell_type": "code",
   "execution_count": null,
   "metadata": {},
   "outputs": [],
   "source": [
    "import pandas as pd\n",
    "import numpy as np\n",
    "import gspread\n",
    "\n",
    "# authentication might change\n",
    "from google.auth import default\n",
    "creds, _ = default()\n",
    "gc = gspread.authorize(creds)\n",
    "\n",
    "# A tool to get data from different worksheet in google sheets that goes numerically like xyz1(sh1,sh2,sh3...), \n",
    "# xyz2(sh1,sh2,sh3...) and so on\n",
    "# run in google colab\n",
    "\n",
    "df_concat = pd.DataFrame()\n",
    "sheetname = 'sheetname'\n",
    "worksheet = \"sh\"\n",
    "L_number = 1\n",
    "# a dict needed to map \"xyz1\" to int and +1 for loop\n",
    "mapper = {'1':'1st', '2':'2nd', '3':'3rd', '4':'4th'}\n",
    "spreadsheet_number = '1' \n",
    "list1 = []\n",
    "\n",
    "# Looping\n",
    "while L_number <=10 :\n",
    "    # open tabs within a worksheet\n",
    "    worksheet1 = gc.open(sheetname).worksheet('sh1') \n",
    "    worksheet2 = gc.open(sheetname).worksheet('sh2')\n",
    "    # get_all_values gives a list of rows.\n",
    "    rows1 = worksheet1.get_all_values()\n",
    "    rows2 = worksheet2.get_all_values()\n",
    "    #  Convert to a DataFrame\n",
    "    df1 = pd.DataFrame.from_records(rows1)\n",
    "    df2 = pd.DataFrame.from_records(rows2)\n",
    "\n",
    "    # Fix the column and rows\n",
    "    df1_header = df1.iloc[0]\n",
    "    df1 = df1[1:]\n",
    "    df1.columns = df1_header\n",
    "    df1['ID'].replace('', np.nan, inplace=True) #replace empty space ' ' with np.nan then dropna\n",
    "    df1['Name'].replace('', np.nan, inplace=True)\n",
    "    \n",
    "    df2_header = df2.iloc[0]\n",
    "    df2 = df2[1:]\n",
    "    df2.columns = df2_header\n",
    "    df2['ID'].replace('', np.nan, inplace=True) \n",
    "    df2['Name'].replace('', np.nan, inplace=True)\n",
    "    \n",
    "\n",
    "    df_concat= pd.concat([df1, df2], ignore_index=True)\n",
    "    df_concat.dropna(axis=0, how='all', inplace = True)\n",
    "\n",
    "    # Identifier for different xyz(s), xyz1 should have a column to let user know it's 1\n",
    "    # Column for identifier number \n",
    "    df_concat['identifier'] = 'identifier '+ spreadsheet_number\n",
    "    # put df into list for some purposes not inlcuded in this code \n",
    "    list1.extend(df_concat.values.tolist())\n",
    "\n",
    "    \n",
    "    # Change str to int for increment\n",
    "    spreadsheet_number_int = int(spreadsheet_number)    \n",
    "    spreadsheet_number_int = spreadsheet_number_int+1\n",
    "    L_number = L_number + 1\n",
    "    if spreadsheet_number_int == 3:\n",
    "        break\n",
    "    spreadsheet_number_str= str(spreadsheet_number_int)  # change increment value into str for dict map\n",
    "    # sheetname could be something like finance 1 and needs to be finance 2 for the loop\n",
    "    # customizable here depending on sheetname\n",
    "    split = sheetname.split()  # split input into parts and extract the last part\n",
    "    split[1] = mapper[spreadsheet_number_str]  # assign new value using dict\n",
    "    sheetname = \" \".join(split) \n",
    "    spreadsheet_number = spreadsheet_number_str"
   ]
  },
  {
   "cell_type": "code",
   "execution_count": null,
   "metadata": {},
   "outputs": [],
   "source": [
    "# a few issues was encountered when using this code and improvement in the future\n",
    "# 1. in the data source, column name \"ID\"/\"Name\" was different a few times and has to be changed manually\n",
    "    # implement something to check the datasource and change it to correct name if its wrong\n",
    "# 2. use function/loop to handle the increasing xyz # and sh #\n"
   ]
  }
 ],
 "metadata": {
  "kernelspec": {
   "display_name": "Python 3.10.5 64-bit",
   "language": "python",
   "name": "python3"
  },
  "language_info": {
   "name": "python",
   "version": "3.10.5"
  },
  "orig_nbformat": 4,
  "vscode": {
   "interpreter": {
    "hash": "26de051ba29f2982a8de78e945f0abaf191376122a1563185a90213a26c5da77"
   }
  }
 },
 "nbformat": 4,
 "nbformat_minor": 2
}
