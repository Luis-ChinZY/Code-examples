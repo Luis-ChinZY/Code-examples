{
 "cells": [
  {
   "cell_type": "code",
   "execution_count": null,
   "metadata": {},
   "outputs": [],
   "source": [
    "df['hour'] = df['updated_at'].dt.hour\n",
    "df_123 = df.groupby(['username', 'hour'], as_index= False)['mb'].count()\n",
    "df_123 = df_123.pivot(index='username', columns= 'hour', values= 'mb')"
   ]
  }
 ],
 "metadata": {
  "language_info": {
   "name": "python"
  },
  "orig_nbformat": 4
 },
 "nbformat": 4,
 "nbformat_minor": 2
}
